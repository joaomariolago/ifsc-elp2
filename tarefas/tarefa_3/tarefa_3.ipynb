{
 "cells": [
  {
   "cell_type": "markdown",
   "metadata": {},
   "source": [
    "# Eletrônica de Potência II - Tarefa 3\n",
    "\n",
    "Alunos:\n",
    "* Alejo Perdomo Milar\n",
    "* João Mário Carnieletto Izoton Lago"
   ]
  },
  {
   "cell_type": "markdown",
   "metadata": {},
   "source": [
    "# Conversor Buck com seguintes especificações:\n",
    "\n",
    "* Tensão de Entrada: 36 V\n",
    "* Tensão de Saída: 12 V\n",
    "* Freq. de comutação: 100 kHz;\n",
    "* Capacitância: 100 uF;\n",
    "* Potência: 100 W;\n",
    "\n",
    "Requisitos:\n",
    "* Delta de corrente no indutor: 10% da corrente média"
   ]
  },
  {
   "cell_type": "markdown",
   "metadata": {},
   "source": [
    "# Simulação preliminar usando indutor estimado de 100uH\n",
    "\n",
    "Para ter uma ideia de valores para escolha do indutor, vamos simular o circuito com um indutor de 100uH.\n",
    "\n",
    "A imagem a seguir apresenta o circuito simulado no software LTSpice, utilizando chaves ideais.\n",
    "\n",
    "![Schematic](./prints/schematic_1.png)\n",
    "\n",
    "---\n",
    "\n",
    "## Formas de Onda Típicas\n",
    "\n",
    "### Ondas na carga com indutor de 100uH\n",
    "\n",
    "![typical](./prints/power_1.png)\n",
    "![typical](./prints/current_1.png)\n",
    "![typical](./prints/voltage_1.png)"
   ]
  },
  {
   "cell_type": "markdown",
   "metadata": {},
   "source": [
    "# Dimensionamento do indutor para ripple de 10% da corrente média\n",
    "\n",
    "L = ((vin - vout) *  D) / (f * (delta_iL) * iout)\n",
    "\n",
    "Assumindo um delta de corrente de 10% da corrente média, e um duty cycle de $\\frac{1}{3}$, temos:\n",
    "\n",
    "$$\n",
    "L = \\frac{(V_{in} - V_{out}) \\cdot D}{f \\cdot \\Delta I_L \\cdot I_{out}}\n",
    "$$\n",
    "\n",
    "Dados os parâmetros do conversor, temos:\n",
    "\n",
    "* Vin: 36 V\n",
    "* Vout: 12 V\n",
    "* Corrente média: 8.3317 A\n",
    "* Duty cycle: $\\frac{1}{3}$\n",
    "* Frequência de comutação: 100 kHz\n",
    "\n",
    "Substituindo os valores:\n",
    "\n",
    "$$\n",
    "L = \\frac{(36 - 12) \\cdot \\frac{1}{3}}{100000 \\cdot 0.1 \\cdot 8.3317} = 96 uH\n",
    "$$"
   ]
  },
  {
   "cell_type": "markdown",
   "metadata": {},
   "source": [
    "# Simulação usando indutor calculado 96uH\n",
    "\n",
    "A imagem a seguir apresenta o circuito simulado no software LTSpice, utilizando chaves ideais.\n",
    "\n",
    "![Schematic](./prints/schematic_2.png)\n",
    "\n",
    "---\n",
    "\n",
    "## Formas de Onda Típicas\n",
    "\n",
    "### Ondas na carga com indutor de 96uH\n",
    "\n",
    "![typical](./prints/power_2.png)\n",
    "![typical](./prints/current_2.png)\n",
    "![typical](./prints/voltage_2.png)\n",
    "\n",
    "---\n",
    "\n",
    "### Correntes no indutor 96uH\n",
    "\n",
    "![typical](./prints/current_inductor_1.png)\n",
    "![typical](./prints/current_inductor_2.png)\n",
    "\n",
    "> Como pode-se ver o delta de corrente no indutor é de 8.3212mA, o que representa 10% da corrente média.\n"
   ]
  }
 ],
 "metadata": {
  "kernelspec": {
   "display_name": ".venv",
   "language": "python",
   "name": "python3"
  },
  "language_info": {
   "codemirror_mode": {
    "name": "ipython",
    "version": 3
   },
   "file_extension": ".py",
   "mimetype": "text/x-python",
   "name": "python",
   "nbconvert_exporter": "python",
   "pygments_lexer": "ipython3",
   "version": "3.13.2"
  }
 },
 "nbformat": 4,
 "nbformat_minor": 2
}
