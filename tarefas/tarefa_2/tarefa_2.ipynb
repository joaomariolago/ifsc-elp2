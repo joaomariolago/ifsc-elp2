{
 "cells": [
  {
   "cell_type": "markdown",
   "metadata": {},
   "source": [
    "# Eletrônica de Potência II - Tarefa 1\n",
    "\n",
    "Alunos:\n",
    "* Alejo Perdomo Milar\n",
    "* João Mário Carnieletto Izoton Lago"
   ]
  },
  {
   "cell_type": "markdown",
   "metadata": {},
   "source": [
    "# Conversor Buck com seguintes especificações:\n",
    "\n",
    "* Tensão de Entrada: 36 V\n",
    "* Tensão de Saída: 12 V\n",
    "* Freq. de comutação: 50 kHz;\n",
    "* Indutância L: 100 uH\n",
    "* Potência: 100 W;"
   ]
  },
  {
   "cell_type": "markdown",
   "metadata": {},
   "source": [
    "# Simulação preliminar usando capacitor estimado de 100uF\n",
    "\n",
    "Para ter uma ideia de valores para escolha do capacitor, vamos simular o circuito com um capacitor de 100uF.\n",
    "\n",
    "A imagem a seguir apresenta o circuito simulado no software LTSpice, utilizando chaves ideais.\n",
    "\n",
    "![Schematic](./prints/schematic_1.png)\n",
    "\n",
    "---\n",
    "\n",
    "## Formas de Onda Típicas\n",
    "\n",
    "### Ondas na carga com capacitor de 100uF\n",
    "\n",
    "![typical](./prints/power_1.png)\n",
    "![typical](./prints/current_1.png)\n",
    "![typical](./prints/voltage_1.png)\n",
    "\n",
    "---\n",
    "\n",
    "### Delta de corrente no indutor para obter o capacitor para o ripple desejado\n",
    "\n",
    "![typical](./prints/current_inductor_1.png)\n",
    "\n",
    "---"
   ]
  },
  {
   "cell_type": "markdown",
   "metadata": {},
   "source": [
    "# Dimensionamento do capacitor para ripple de saída de 1%\n",
    "\n",
    "Assumindo um delta de tensão de 1% da tensão de saída, temos:\n",
    "\n",
    "$$\n",
    "\\Delta V_o = 0.01 \\cdot V_{out} = 0.01 \\cdot 12 V = 0.12 V\n",
    "$$\n",
    "\n",
    "A corrente média no capacitor é dada por:\n",
    "\n",
    "$$\n",
    "C_o = \\frac{\\Delta I_L}{8 \\cdot f \\cdot \\Delta V_o}\n",
    "$$\n",
    "\n",
    "Dados os parâmetros do conversor, temos:\n",
    "\n",
    "* Delta de corrente indutor: 1.5754 A\n",
    "* Delta de tensão: 0.12 V\n",
    "* Frequência de comutação: 50 kHz\n",
    "\n",
    "Substituindo os valores na equação, temos:\n",
    "\n",
    "$$\n",
    "C_o = \\frac{1.5754 A}{8 \\cdot 50 kHz \\cdot 0.12 V} = 32.820 uF\n",
    "$$\n"
   ]
  },
  {
   "cell_type": "markdown",
   "metadata": {},
   "source": [
    "# Simulação preliminar usando capacitor calculado 33uF\n",
    "\n",
    "A imagem a seguir apresenta o circuito simulado no software LTSpice, utilizando chaves ideais.\n",
    "\n",
    "![Schematic](./prints/schematic_2.png)\n",
    "\n",
    "---\n",
    "\n",
    "## Formas de Onda Típicas\n",
    "\n",
    "### Ondas na carga com capacitor de 100uF\n",
    "\n",
    "![typical](./prints/power_2.png)\n",
    "![typical](./prints/current_2.png)\n",
    "![typical](./prints/voltage_2.png)\n",
    "\n",
    "> Como pode ser visto na imagem, o ripple de tensão na carga é de 0.12V conforme desejado\n",
    "\n",
    "---\n",
    "\n",
    "### Correntes no capacitor\n",
    "\n",
    "![typical](./prints/current_capacitor_2.png)\n",
    "![typical](./prints/current_capacitor_2_2.png)\n",
    "\n",
    "Conforme as ondas pode se extrair que o capacitor tem uma corrente RMS $462 mA$ e um delta de corrente de $1.6 A$. Esses valores são utilizados para escolha do componente."
   ]
  },
  {
   "cell_type": "markdown",
   "metadata": {},
   "source": [
    "# Escolha da chave\n",
    "\n",
    "![typical](./prints/switch.png)"
   ]
  }
 ],
 "metadata": {
  "kernelspec": {
   "display_name": ".venv",
   "language": "python",
   "name": "python3"
  },
  "language_info": {
   "codemirror_mode": {
    "name": "ipython",
    "version": 3
   },
   "file_extension": ".py",
   "mimetype": "text/x-python",
   "name": "python",
   "nbconvert_exporter": "python",
   "pygments_lexer": "ipython3",
   "version": "3.13.2"
  }
 },
 "nbformat": 4,
 "nbformat_minor": 2
}
