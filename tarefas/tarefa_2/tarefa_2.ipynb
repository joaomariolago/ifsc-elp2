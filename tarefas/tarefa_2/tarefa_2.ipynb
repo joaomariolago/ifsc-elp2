{
 "cells": [
  {
   "cell_type": "markdown",
   "metadata": {},
   "source": [
    "# Eletrônica de Potência II - Tarefa 1\n",
    "\n",
    "Alunos:\n",
    "* Alejo Perdomo Milar\n",
    "* João Mário Carnieletto Izoton Lago"
   ]
  },
  {
   "cell_type": "markdown",
   "metadata": {},
   "source": [
    "# Conversor Buck com seguintes especificações:\n",
    "\n",
    "* Tensão de Entrada: 36 V\n",
    "* Tensão de Saída: 12 V\n",
    "* Freq. de comutação: 50 kHz;\n",
    "* Indutância L: 100 uH\n",
    "* Potência: 100 W;"
   ]
  },
  {
   "cell_type": "markdown",
   "metadata": {},
   "source": [
    "# Simulação preliminar usando capacitor estimado de 100uF\n",
    "\n",
    "Para ter uma ideia de valores para escolha do capacitor, vamos simular o circuito com um capacitor de 100uF.\n",
    "\n",
    "A imagem a seguir apresenta o circuito simulado no software LTSpice, utilizando chaves ideais.\n",
    "\n",
    "![Schematic](./prints/schematic_1.png)\n",
    "\n",
    "---\n",
    "\n",
    "## Formas de Onda Típicas\n",
    "\n",
    "### Ondas na carga com capacitor de 100uF\n",
    "\n",
    "![typical](./prints/power_1.png)\n",
    "![typical](./prints/current_1.png)\n",
    "![typical](./prints/voltage_1.png)\n",
    "\n",
    "---\n",
    "\n",
    "### Delta de corrente no indutor para obter o capacitor para o ripple desejado\n",
    "\n",
    "![typical](./prints/current_inductor_1.png)\n",
    "\n",
    "---"
   ]
  },
  {
   "cell_type": "markdown",
   "metadata": {},
   "source": [
    "# Dimensionamento do capacitor para ripple de saída de 1%\n",
    "\n",
    "Assumindo um delta de tensão de 1% da tensão de saída, temos:\n",
    "\n",
    "$$\n",
    "\\Delta V_o = 0.01 \\cdot V_{out} = 0.01 \\cdot 12 V = 0.12 V\n",
    "$$\n",
    "\n",
    "A corrente média no capacitor é dada por:\n",
    "\n",
    "$$\n",
    "C_o = \\frac{\\Delta I_L}{8 \\cdot f \\cdot \\Delta V_o}\n",
    "$$\n",
    "\n",
    "Dados os parâmetros do conversor, temos:\n",
    "\n",
    "* Delta de corrente indutor: 1.5754 A\n",
    "* Delta de tensão: 0.12 V\n",
    "* Frequência de comutação: 50 kHz\n",
    "\n",
    "Substituindo os valores na equação, temos:\n",
    "\n",
    "$$\n",
    "C_o = \\frac{1.5754 A}{8 \\cdot 50 kHz \\cdot 0.12 V} = 32.820 uF\n",
    "$$\n"
   ]
  },
  {
   "cell_type": "markdown",
   "metadata": {},
   "source": [
    "# Simulação usando capacitor calculado 33uF\n",
    "\n",
    "A imagem a seguir apresenta o circuito simulado no software LTSpice, utilizando chaves ideais.\n",
    "\n",
    "![Schematic](./prints/schematic_2.png)\n",
    "\n",
    "---\n",
    "\n",
    "## Formas de Onda Típicas\n",
    "\n",
    "### Ondas na carga com capacitor de 100uF\n",
    "\n",
    "![typical](./prints/power_2.png)\n",
    "![typical](./prints/current_2.png)\n",
    "![typical](./prints/voltage_2.png)\n",
    "\n",
    "> Como pode ser visto na imagem, o ripple de tensão na carga é de 0.12V conforme desejado\n",
    "\n",
    "---\n",
    "\n",
    "### Correntes no capacitor\n",
    "\n",
    "![typical](./prints/current_capacitor_2.png)\n",
    "![typical](./prints/current_capacitor_2_2.png)\n",
    "\n",
    "Conforme as ondas pode se extrair que o capacitor tem uma corrente RMS $462 mA$ e um delta de corrente de $1.6 A$. Esses valores são utilizados para escolha do componente.\n",
    "\n",
    "## Capacitor escolhido 5 x (CL32B106KBJNFNE)\n",
    "\n",
    "Foi escolhido o uso de 5 unidades dos capacitores [CL32B106KBJNFNE](https://br.mouser.com/ProductDetail/Samsung-Electro-Mechanics/CL32B106KBJNFNE?qs=%252B6g0mu59x7JyYu1TrhK7vQ%3D%3D&srsltid=AfmBOoqsUTMLkSxsrZveaIdgTWPKhmQ63iqWpHIKn3tUCvS0Xo5BivaT) de 10 uF cada devido ao fato de serem cerâmicos é necessário fazer uma compensação de queda de capacitância com a tensão aplicada.\n",
    "\n",
    "Assim sendo tem de se analisar 2 fatores:\n",
    "\n",
    "### Perda de capacitância com a tensão aplicada\n",
    "\n",
    "![typical](./datasheet/CL32B106KBJNFNE_cap_loss.png)\n",
    "\n",
    "Dado que aplica-se 12V, temos de considerar uma redução de aproximadamente 25% a 30% da capacitância, ou seja, 7uF por capacitor. Assim o banco de 5 capacitores tem uma capacitância de 35uF, que é o que se deseja para ripple de 1%.\n",
    "\n",
    "### Aquecimento do capacitor com corrente\n",
    "\n",
    "![typical](./datasheet/CL32B106KBJNFNE_temp.png)\n",
    "\n",
    "Dado que estamos usando 5 capacitores, a corrente RMS de 462mA se divide entre os 5 capacitores, ou seja, cada capacitor tem uma corrente de 92.4mA por capacitor, assim o aumento de temperatura é desprezível, sendo menos do que 1 ºC.\n",
    "\n",
    "### Resistência equivalente série (ESR)\n",
    "\n",
    "![typical](./datasheet/CL32B106KBJNFNE_esr.png)\n",
    "\n",
    "A resistência equivalente série (ESR) é de 7 mΩ por capacitor, ou seja, 1.4 mΩ para o banco de 5 capacitores. Assim, pode ser considerado desprezível para o projeto.\n",
    "\n",
    "### Conclusões\n",
    "\n",
    "Dado que se trata de um capacitor cerâmico de boa qualidade, esse capacitor vem a aumentar um pouco o custo do projeto, porém valendo a pena dado que irá aumentar muito a vida útil do conversor e a redução de volume do conversor. Assim proporcionando uma densidade de potência muito mais atrativa."
   ]
  },
  {
   "cell_type": "markdown",
   "metadata": {},
   "source": [
    "# Escolha da chave (IAUZ40N06S5N050)\n",
    "\n",
    "![typical](./prints/switch.png)\n",
    "![typical](./prints/switch_1.png)\n",
    "\n",
    "\n",
    "Com base nos valores necessário de estresse para chave, foi escolhida a chave **IAUZ40N06S5N050** dado que se trata de uma chave barata e disponível na mouser e que atende os requisitos de corrente e tensão. E como mostrado a baixo não necessita de dissipador."
   ]
  },
  {
   "cell_type": "code",
   "execution_count": null,
   "metadata": {},
   "outputs": [
    {
     "name": "stdout",
     "output_type": "stream",
     "text": [
      "Perdas de condução na chave: 0.14 W\n",
      "Perdas de comutação na chave: 0.05 W\n",
      "Perdas totais na chave: 0.19 W\n"
     ]
    }
   ],
   "source": [
    "# Converter\n",
    "duty = 0.333\n",
    "freq = 50e3\n",
    "\n",
    "# Switch\n",
    "i_s_rms = 4.8153\n",
    "i_s_on = 9.11\n",
    "v_ds_off = 36.0\n",
    "switch_r_ds_on = 6e-3 # 6mΩ @ 100C\n",
    "\n",
    "# Assuming gate driver can instantly turn on and off the switch\n",
    "switch_tr = 1e-9\n",
    "switch_tf = 4.6e-9\n",
    "\n",
    "# Switch losses\n",
    "switch_conduction_loss = switch_r_ds_on * (i_s_rms**2)\n",
    "switch_commutation_loss = (freq / 2) * (switch_tr + switch_tf) * (v_ds_off * i_s_on)\n",
    "\n",
    "switch_total_loss = switch_conduction_loss + switch_commutation_loss\n",
    "\n",
    "print(f\"Perdas de condução na chave: {switch_conduction_loss:.2f} W\")\n",
    "print(f\"Perdas de comutação na chave: {switch_commutation_loss:.2f} W\")\n",
    "print(f\"Perdas totais na chave: {switch_total_loss:.2f} W\")"
   ]
  },
  {
   "cell_type": "markdown",
   "metadata": {},
   "source": [
    "# Escolha do diodo (MBRD20150CT)\n",
    "\n",
    "![typical](./prints/diode.png)\n",
    "![typical](./prints/diode_1.png)"
   ]
  },
  {
   "cell_type": "code",
   "execution_count": 3,
   "metadata": {},
   "outputs": [
    {
     "name": "stdout",
     "output_type": "stream",
     "text": [
      "Perdas de condução no diodo: 2.39 W\n",
      "Perdas de comutação no diodo: 0.00 W\n",
      "Perdas totais no diodo: 2.39 W\n"
     ]
    }
   ],
   "source": [
    "i_d_avg = 5.55\n",
    "i_d_rms = 6.8122\n",
    "\n",
    "# Assuming Tj = 25 since data sheet since 25 is the worse case\n",
    "mbr_diode_v_threshold = 0.29\n",
    "# Assumin Tj = 85 to get the RT closer to the operating point\n",
    "mbr_diode_rt = 1.0 / 17.5421052 # Around 57mΩ for MBRD20150CT\n",
    "\n",
    "mbr_diode_conduction_loss = mbr_diode_v_threshold * i_d_avg + mbr_diode_rt * (i_d_rms*2)\n",
    "# Disconsider it since it is a Schottky diode\n",
    "mbr_diode_commutation_loss = 0.0\n",
    "\n",
    "mbr_diode_total_loss = mbr_diode_conduction_loss + mbr_diode_commutation_loss\n",
    "\n",
    "print(f\"Perdas de condução no diodo: {mbr_diode_conduction_loss:.2f} W\")\n",
    "print(f\"Perdas de comutação no diodo: {mbr_diode_commutation_loss:.2f} W\")\n",
    "print(f\"Perdas totais no diodo: {mbr_diode_total_loss:.2f} W\")"
   ]
  },
  {
   "cell_type": "markdown",
   "metadata": {},
   "source": [
    "# Cálculo de dissipadores para validação"
   ]
  },
  {
   "cell_type": "code",
   "execution_count": 4,
   "metadata": {},
   "outputs": [
    {
     "name": "stdout",
     "output_type": "stream",
     "text": [
      "============ Calculo das perdas totais para o diodo MBRD20150CT ============\n",
      "Temperatura maxima no dissipador para o diodo (MBRD20150CT): 125.68 C\n",
      "Perdas totais: 2.39 W\n",
      "Rth maximo do dissipador: 23.34 C/W\n"
     ]
    }
   ],
   "source": [
    "# Disconsidering loses on switch since are negligenciable IAUZ40N06S5N050\n",
    "\n",
    "# MBRD20150CT\n",
    "mbr_diode_r_junction_case = 6.0\n",
    "mbr_diode_temp_max = 175.0 * 0.8 # Assuming 20% tolerance\n",
    "\n",
    "# Assuming 70C ambient temperature\n",
    "ambient_temp = 70.0\n",
    "\n",
    "print(f\"============ Calculo das perdas totais para o diodo MBRD20150CT ============\")\n",
    "\n",
    "diode_temp_sink_max = mbr_diode_temp_max - (mbr_diode_r_junction_case * mbr_diode_total_loss)\n",
    "\n",
    "print(f\"Temperatura maxima no dissipador para o diodo (MBRD20150CT): {diode_temp_sink_max:.2f} C\")\n",
    "print(f\"Perdas totais: {mbr_diode_total_loss:.2f} W\")\n",
    "\n",
    "heatsink_r_max = (diode_temp_sink_max - ambient_temp) / mbr_diode_total_loss\n",
    "\n",
    "print(f\"Rth maximo do dissipador: {heatsink_r_max:.2f} C/W\")\n"
   ]
  },
  {
   "cell_type": "markdown",
   "metadata": {},
   "source": [
    "# Validação sobre a necessidade de dissipadores\n",
    "\n",
    "Como cálculado, será negligenciado as perdas na chave tendo em vista que são despresíveis se comparada ao diodo e que potencialmente podem serem dissipadas pela própria placa devido a serem muito pequenas.\n",
    "\n",
    "Assim sendo, o diodo é o único que possui um nível de perdas a serem consideradas. Conforme os cálculosm, o Rth do diodo é de 23.34 C/W, assim sendo, conforme seu datasheet:\n",
    "\n",
    "![typical](./prints/diode_loss.png)\n",
    "\n",
    "Não seria necessário um dissipador, lembrando que apesar de os valores de 22 C/W e 23.34 C/W serem bem próximos, tem de se considerar que ja há uma tolerância de 20% nos cálculos, assim sendo não seria necessario um dissipador.\n",
    "\n",
    "## Recomendação extra\n",
    "\n",
    "Como nota extra, caso a empresa que desenvolvendo o conversor deseje aumentar a vida útil ou operar em ambientes com temperaturas mais hostis, recomenda-se o uso de um dissipador pequeno para o conversor.\n",
    "\n",
    "### HS 1509\n",
    "\n",
    "Por exemplo um caso que pode ser utilizado é o HS 1509, que seria mais que suficiente tendo em vista que o conversor normal sem dissipador ja opera corretamente.\n",
    "\n",
    "![typical](./datasheet/hs1509.png)"
   ]
  }
 ],
 "metadata": {
  "kernelspec": {
   "display_name": ".venv",
   "language": "python",
   "name": "python3"
  },
  "language_info": {
   "codemirror_mode": {
    "name": "ipython",
    "version": 3
   },
   "file_extension": ".py",
   "mimetype": "text/x-python",
   "name": "python",
   "nbconvert_exporter": "python",
   "pygments_lexer": "ipython3",
   "version": "3.13.2"
  }
 },
 "nbformat": 4,
 "nbformat_minor": 2
}
