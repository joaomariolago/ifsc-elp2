{
 "cells": [
  {
   "cell_type": "markdown",
   "metadata": {},
   "source": [
    "Eletrônica de Potência II - Tarefa 1\n",
    "\n",
    "Alunos:\n",
    "* Alejo Perdomo Milar\n",
    "* João Mário Carnieletto Izoton Lago"
   ]
  },
  {
   "cell_type": "markdown",
   "metadata": {},
   "source": [
    "## Conversor Buck com seguintes especificações:\n",
    "\n",
    "* Tensão de Entrada: 36 V\n",
    "* Tensão de Saída: 12 V\n",
    "* Freq. de comutação: 100 kHz;\n",
    "* Indutância L: 100 uH\n",
    "* Capacitância C: 100 uF;\n",
    "* Potência: 100 W;"
   ]
  },
  {
   "cell_type": "markdown",
   "metadata": {},
   "source": [
    "## Circuito Simulado no LTSpice (Modelo Idealizado)\n",
    "\n",
    "A imagem a seguir apresenta o circuito simulado no software LTSpice, utilizando componentes ideais para fins de análise.\n",
    "\n",
    "![Schematic](./prints/schematic.png)\n",
    "\n",
    "---\n",
    "\n",
    "## Formas de Onda Típicas\n",
    "\n",
    "A seguir, são apresentadas as formas de onda obtidas a partir da simulação, destacando a corrente no indutor, a potência dissipada na carga, bem como a tensão e a corrente na carga.\n",
    "\n",
    "![typical](./prints/typical.png)\n",
    "\n",
    "---\n",
    "\n",
    "## Estresses na Chave\n",
    "\n",
    "A imagem abaixo ilustra as formas de ondas relacionadas à chave. São exibidas a tensão de controle (Vgs), a tensão aplicada sobre a chave e a corrente nela.\n",
    "\n",
    "![switch](./prints/switch.png)\n",
    "\n",
    "A imagem seguinte apresenta um zoom da anterior, evidenciando os pontos de corrente máxima e mínima na chave.\n",
    "\n",
    "![switch_zoom](./prints/switch_zoom.png)\n",
    "\n",
    "Por fim, a figura abaixo mostra os valores médio e eficaz (RMS) da corrente que na chave.\n",
    "\n",
    "![I_SW1](./prints/I_SW1.png)\n",
    "\n",
    "---\n",
    "\n",
    "## Estresses no Diodo\n",
    "\n",
    "A figura a seguir apresenta as formas de onda relacionadas ao diodo. São mostradas a tensão de controle da chave, a tensão sobre o diodo e a corrente nele.\n",
    "\n",
    "![diode](./prints/diode.png)\n",
    "\n",
    "A imagem seguinte amplia a anterior, permitindo a observação dos instantes de corrente máxima e mínima no diodo.\n",
    "\n",
    "![diode_zoom](./prints/diode_zoom.png)\n",
    "\n",
    "A última imagem desta seção apresenta os valores médio e eficaz (RMS) da corrente no diodo.\n",
    "\n",
    "![I_D1](./prints/I_D1.png)\n"
   ]
  },
  {
   "cell_type": "markdown",
   "metadata": {},
   "source": [
    "---\n",
    "\n",
    "# Extrair dados da chave\n",
    "# Perdas em condução e comutação"
   ]
  },
  {
   "cell_type": "code",
   "execution_count": null,
   "metadata": {},
   "outputs": [
    {
     "name": "stdout",
     "output_type": "stream",
     "text": [
      "Perdas de condução na chave: 0.87 W\n",
      "Perdas de comutação na chave: 1.56 W\n",
      "Perdas totais na chave: 2.43 W\n"
     ]
    }
   ],
   "source": [
    "# Converter\n",
    "duty = 0.34\n",
    "freq = 100e3\n",
    "\n",
    "# Switch\n",
    "i_s_rms = 4.8242\n",
    "i_s_on = 8.7445\n",
    "v_ds_off = 36.0\n",
    "switch_r_ds_on = 1.5 * 0.025 # @ 100C\n",
    "\n",
    "# Assuming gate driver can instantly turn on and off the switch\n",
    "switch_tr = 84e-9\n",
    "switch_tf = 15e-9\n",
    "\n",
    "# Switch losses\n",
    "switch_conduction_loss = switch_r_ds_on * (i_s_rms**2)\n",
    "switch_commutation_loss = (freq / 2) * (switch_tr + switch_tf) * (v_ds_off * i_s_on)\n",
    "\n",
    "switch_total_loss = switch_conduction_loss + switch_commutation_loss\n",
    "\n",
    "print(f\"Perdas de condução na chave: {switch_conduction_loss:.2f} W\")\n",
    "print(f\"Perdas de comutação na chave: {switch_commutation_loss:.2f} W\")\n",
    "print(f\"Perdas totais na chave: {switch_total_loss:.2f} W\")\n"
   ]
  },
  {
   "cell_type": "markdown",
   "metadata": {},
   "source": [
    "---\n",
    "\n",
    "## Perdas para o diodo MUR860 (Silicon Ultra Fast)"
   ]
  },
  {
   "cell_type": "code",
   "execution_count": 12,
   "metadata": {},
   "outputs": [
    {
     "name": "stdout",
     "output_type": "stream",
     "text": [
      "Perdas de condução no diodo: 3.52 W\n",
      "Perdas de comutação no diodo: 0.70 W\n",
      "Perdas totais no diodo: 4.22 W\n"
     ]
    }
   ],
   "source": [
    "# diode\n",
    "i_d_avg = 5.55\n",
    "i_d_rms = 6.8122\n",
    "\n",
    "diode_v_threshold = 0.47\n",
    "diode_rt = 1.0 / 15.0 # Around 6.66mΩ for 1N5408aa\n",
    "diode_q_rr = 195e-9\n",
    "diode_v_off = 36\n",
    "\n",
    "diode_conduction_loss = diode_v_threshold * i_d_avg + diode_rt * (i_d_rms*2)\n",
    "diode_commutation_loss = diode_q_rr * diode_v_off * freq\n",
    "\n",
    "diode_total_loss = diode_conduction_loss + diode_commutation_loss\n",
    "\n",
    "print(f\"Perdas de condução no diodo: {diode_conduction_loss:.2f} W\")\n",
    "print(f\"Perdas de comutação no diodo: {diode_commutation_loss:.2f} W\")\n",
    "print(f\"Perdas totais no diodo: {diode_total_loss:.2f} W\")"
   ]
  },
  {
   "cell_type": "markdown",
   "metadata": {},
   "source": [
    "---\n",
    "\n",
    "## Perdas para o diodo MBR20100CT (Schottky)"
   ]
  },
  {
   "cell_type": "code",
   "execution_count": null,
   "metadata": {},
   "outputs": [
    {
     "name": "stdout",
     "output_type": "stream",
     "text": [
      "Perdas de condução no diodo: 2.43 W\n",
      "Perdas de comutação no diodo: 0.00 W\n",
      "Perdas totais no diodo: 2.43 W\n"
     ]
    }
   ],
   "source": [
    "# diode\n",
    "i_d_avg = 5.55\n",
    "i_d_rms = 6.8122\n",
    "\n",
    "# Assuming Tj = 25 since data sheet only provides values for 25 and 150 and 25 is the worse case\n",
    "diode_v_threshold = 0.3\n",
    "diode_rt = 1.0 / 17.75555 # Around 5.632 mΩ for 1N5408aa\n",
    "\n",
    "diode_conduction_loss = diode_v_threshold * i_d_avg + diode_rt * (i_d_rms*2)\n",
    "# Disconsider it since it is a Schottky diode\n",
    "diode_commutation_loss = 0.0\n",
    "\n",
    "diode_total_loss = diode_conduction_loss + diode_commutation_loss\n",
    "\n",
    "print(f\"Perdas de condução no diodo: {diode_conduction_loss:.2f} W\")\n",
    "print(f\"Perdas de comutação no diodo: {diode_commutation_loss:.2f} W\")\n",
    "print(f\"Perdas totais no diodo: {diode_total_loss:.2f} W\")"
   ]
  },
  {
   "cell_type": "markdown",
   "metadata": {},
   "source": [
    "## Cálculo de dissipadores"
   ]
  }
 ],
 "metadata": {
  "kernelspec": {
   "display_name": ".venv",
   "language": "python",
   "name": "python3"
  },
  "language_info": {
   "codemirror_mode": {
    "name": "ipython",
    "version": 3
   },
   "file_extension": ".py",
   "mimetype": "text/x-python",
   "name": "python",
   "nbconvert_exporter": "python",
   "pygments_lexer": "ipython3",
   "version": "3.11.10"
  }
 },
 "nbformat": 4,
 "nbformat_minor": 2
}
