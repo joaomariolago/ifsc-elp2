{
 "cells": [
  {
   "cell_type": "markdown",
   "metadata": {},
   "source": [
    "Eletrônica de Potência II - Tarefa 1\n",
    "\n",
    "Alunos:\n",
    "* Alejo Perdomo Milar\n",
    "* João Mário Carnieletto Izoton Lago"
   ]
  },
  {
   "cell_type": "markdown",
   "metadata": {},
   "source": [
    "## Conversor Buck com seguintes especificações:\n",
    "\n",
    "* Tensão de Entrada: 36 V\n",
    "* Tensão de Saída: 12 V\n",
    "* Freq. de comutação: 100 kHz;\n",
    "* Indutância L: 100 uH\n",
    "* Capacitância C: 100 uF;\n",
    "* Potência: 100 W;"
   ]
  },
  {
   "cell_type": "markdown",
   "metadata": {},
   "source": [
    "## Circuito Simulado no LTSpice (Modelo Idealizado)\n",
    "\n",
    "A imagem a seguir apresenta o circuito simulado no software LTSpice, utilizando componentes ideais para fins de análise.\n",
    "\n",
    "![Schematic](./prints/schematic.png)\n",
    "\n",
    "---\n",
    "\n",
    "## Formas de Onda Típicas\n",
    "\n",
    "A seguir, são apresentadas as formas de onda obtidas a partir da simulação, destacando a corrente no indutor, a potência dissipada na carga, bem como a tensão e a corrente na carga.\n",
    "\n",
    "![typical](./prints/typical.png)\n",
    "\n",
    "---\n",
    "\n",
    "## Estresses na Chave\n",
    "\n",
    "A imagem abaixo ilustra as formas de ondas relacionadas à chave. São exibidas a tensão de controle (Vgs), a tensão aplicada sobre a chave e a corrente nela.\n",
    "\n",
    "![switch](./prints/switch.png)\n",
    "\n",
    "A imagem seguinte apresenta um zoom da anterior, evidenciando os pontos de corrente máxima e mínima na chave.\n",
    "\n",
    "![switch_zoom](./prints/switch_zoom.png)\n",
    "\n",
    "Por fim, a figura abaixo mostra os valores médio e eficaz (RMS) da corrente que na chave.\n",
    "\n",
    "![I_SW1](./prints/I_SW1.png)\n",
    "\n",
    "---\n",
    "\n",
    "## Estresses no Diodo\n",
    "\n",
    "A figura a seguir apresenta as formas de onda relacionadas ao diodo. São mostradas a tensão de controle da chave, a tensão sobre o diodo e a corrente nele.\n",
    "\n",
    "![diode](./prints/diode.png)\n",
    "\n",
    "A imagem seguinte amplia a anterior, permitindo a observação dos instantes de corrente máxima e mínima no diodo.\n",
    "\n",
    "![diode_zoom](./prints/diode_zoom.png)\n",
    "\n",
    "A última imagem desta seção apresenta os valores médio e eficaz (RMS) da corrente no diodo.\n",
    "\n",
    "![I_D1](./prints/I_D1.png)\n"
   ]
  },
  {
   "cell_type": "markdown",
   "metadata": {},
   "source": [
    "---\n",
    "\n",
    "# Extrair dados da chave\n",
    "# Perdas em condução e comutação"
   ]
  },
  {
   "cell_type": "code",
   "execution_count": 1,
   "metadata": {},
   "outputs": [
    {
     "name": "stdout",
     "output_type": "stream",
     "text": [
      "Perdas de condução na chave: 0.87 W\n",
      "Perdas de comutação na chave: 1.56 W\n",
      "Perdas totais na chave: 2.43 W\n"
     ]
    }
   ],
   "source": [
    "# Converter\n",
    "duty = 0.34\n",
    "freq = 100e3\n",
    "\n",
    "# Switch\n",
    "i_s_rms = 4.8242\n",
    "i_s_on = 8.7445\n",
    "v_ds_off = 36.0\n",
    "switch_r_ds_on = 1.5 * 0.025 # @ 100C\n",
    "\n",
    "# Assuming gate driver can instantly turn on and off the switch\n",
    "switch_tr = 84e-9\n",
    "switch_tf = 15e-9\n",
    "\n",
    "# Switch losses\n",
    "switch_conduction_loss = switch_r_ds_on * (i_s_rms**2)\n",
    "switch_commutation_loss = (freq / 2) * (switch_tr + switch_tf) * (v_ds_off * i_s_on)\n",
    "\n",
    "switch_total_loss = switch_conduction_loss + switch_commutation_loss\n",
    "\n",
    "print(f\"Perdas de condução na chave: {switch_conduction_loss:.2f} W\")\n",
    "print(f\"Perdas de comutação na chave: {switch_commutation_loss:.2f} W\")\n",
    "print(f\"Perdas totais na chave: {switch_total_loss:.2f} W\")\n"
   ]
  },
  {
   "cell_type": "markdown",
   "metadata": {},
   "source": [
    "---\n",
    "\n",
    "## Perdas para o diodo MUR860 (Silicon Ultra Fast)"
   ]
  },
  {
   "cell_type": "code",
   "execution_count": 2,
   "metadata": {},
   "outputs": [
    {
     "name": "stdout",
     "output_type": "stream",
     "text": [
      "Perdas de condução no diodo: 3.52 W\n",
      "Perdas de comutação no diodo: 0.70 W\n",
      "Perdas totais no diodo: 4.22 W\n"
     ]
    }
   ],
   "source": [
    "# diode\n",
    "i_d_avg = 5.55\n",
    "i_d_rms = 6.8122\n",
    "\n",
    "mur_diode_v_threshold = 0.47\n",
    "mur_diode_rt = 1.0 / 15.0 # Around 6.66mΩ for 1N5408aa\n",
    "mur_diode_q_rr = 195e-9\n",
    "mur_diode_v_off = 36\n",
    "\n",
    "mur_diode_conduction_loss = mur_diode_v_threshold * i_d_avg + mur_diode_rt * (i_d_rms*2)\n",
    "mur_diode_commutation_loss = mur_diode_q_rr * mur_diode_v_off * freq\n",
    "\n",
    "mur_diode_total_loss = mur_diode_conduction_loss + mur_diode_commutation_loss\n",
    "\n",
    "print(f\"Perdas de condução no diodo: {mur_diode_conduction_loss:.2f} W\")\n",
    "print(f\"Perdas de comutação no diodo: {mur_diode_commutation_loss:.2f} W\")\n",
    "print(f\"Perdas totais no diodo: {mur_diode_total_loss:.2f} W\")"
   ]
  },
  {
   "cell_type": "markdown",
   "metadata": {},
   "source": [
    "---\n",
    "\n",
    "## Perdas para o diodo MBR20100CT (Schottky)"
   ]
  },
  {
   "cell_type": "code",
   "execution_count": 3,
   "metadata": {},
   "outputs": [
    {
     "name": "stdout",
     "output_type": "stream",
     "text": [
      "Perdas de condução no diodo: 2.43 W\n",
      "Perdas de comutação no diodo: 0.00 W\n",
      "Perdas totais no diodo: 2.43 W\n"
     ]
    }
   ],
   "source": [
    "# diode\n",
    "i_d_avg = 5.55\n",
    "i_d_rms = 6.8122\n",
    "\n",
    "# Assuming Tj = 25 since data sheet only provides values for 25 and 150 and 25 is the worse case\n",
    "mbr_diode_v_threshold = 0.3\n",
    "mbr_diode_rt = 1.0 / 17.75555\n",
    "\n",
    "mbr_diode_conduction_loss = mbr_diode_v_threshold * i_d_avg + mbr_diode_rt * (i_d_rms*2)\n",
    "# Disconsider it since it is a Schottky diode\n",
    "mbr_diode_commutation_loss = 0.0\n",
    "\n",
    "mbr_diode_total_loss = mbr_diode_conduction_loss + mbr_diode_commutation_loss\n",
    "\n",
    "print(f\"Perdas de condução no diodo: {mbr_diode_conduction_loss:.2f} W\")\n",
    "print(f\"Perdas de comutação no diodo: {mbr_diode_commutation_loss:.2f} W\")\n",
    "print(f\"Perdas totais no diodo: {mbr_diode_total_loss:.2f} W\")"
   ]
  },
  {
   "cell_type": "markdown",
   "metadata": {},
   "source": [
    "## Cálculo de dissipadores"
   ]
  },
  {
   "cell_type": "code",
   "execution_count": 5,
   "metadata": {},
   "outputs": [
    {
     "name": "stdout",
     "output_type": "stream",
     "text": [
      "============ Calculo das perdas totais para a chave IRLZ44N e o diodo MUR805 ============\n",
      "Temperatura maxima no dissipador para a chave: 152.88 C\n",
      "Temperatura maxima no dissipador para o diodo: 144.84 C\n",
      "Perdas totais: 6.65 W\n",
      "Rth maximo do dissipador: 11.26 C/W\n",
      "============ Calculo das perdas totais para a chave IRLZ44N e o diodo MBR20100 ============\n",
      "Temperatura maxima no dissipador para a chave: 152.88 C\n",
      "Temperatura maxima no dissipador para o diodo: 130.14 C\n",
      "Perdas totais: 4.86 W\n",
      "Rth maximo do dissipador: 12.37 C/W\n"
     ]
    }
   ],
   "source": [
    "\n",
    "def calculate_rth_max(diode_name, switch_temp_max, switch_r_junction_sink, switch_total_loss,\n",
    "\t\t\t\t\t  diode_temp_max, diode_r_junction_case, diode_total_loss,\n",
    "\t\t\t\t\t  ambient_temp):\n",
    "\tprint(f\"============ Calculo das perdas totais para a chave IRLZ44N e o diodo {diode_name} ============\")\n",
    "\n",
    "\tswitch_temp_sink_max = switch_temp_max - (switch_r_junction_sink * switch_total_loss)\n",
    "\tprint(f\"Temperatura maxima no dissipador para a chave: {switch_temp_sink_max:.2f} C\")\n",
    "\n",
    "\tdiode_temp_sink_max = diode_temp_max - (diode_r_junction_case * diode_total_loss)\n",
    "\tprint(f\"Temperatura maxima no dissipador para o diodo: {diode_temp_sink_max:.2f} C\")\n",
    "\n",
    "\ttotal_power_loss = switch_total_loss + diode_total_loss\n",
    "\tprint(f\"Perdas totais: {total_power_loss:.2f} W\")\n",
    "\n",
    "\theatsink_r_max = (min([diode_temp_sink_max, switch_temp_sink_max]) - ambient_temp) / total_power_loss\n",
    "\n",
    "\tprint(f\"Rth maximo do dissipador: {heatsink_r_max:.2f} C/W\")\n",
    "\n",
    "\n",
    "# IRLZ44N\n",
    "switch_r_junction_case = 1.4\n",
    "switch_r_case_sink = 0.5\n",
    "switch_r_junction_sink = switch_r_junction_case + switch_r_case_sink\n",
    "switch_r_junction_ambient = 62.0\n",
    "switch_temp_max = 175.0 * 0.9 # Assuming 10% tolerance\n",
    "\n",
    "# MUR805\n",
    "mur_diode_r_junction_case = 3.0\n",
    "mur_diode_temp_max = 175.0 * 0.9 # Assuming 10% tolerance\n",
    "\n",
    "# MBR20100\n",
    "mbr_diode_r_junction_case = 2.0\n",
    "mbr_diode_temp_max = 150.0 * 0.9 # Assuming 10% tolerance\n",
    "\n",
    "# Assuming 70C ambient temperature\n",
    "ambient_temp = 70.0\n",
    "\n",
    "calculate_rth_max(\"MUR805\", switch_temp_max, switch_r_junction_sink, switch_total_loss,\n",
    "\t\t\t\t  mur_diode_temp_max, mur_diode_r_junction_case, mur_diode_total_loss,\n",
    "\t\t\t\t  ambient_temp)\n",
    "\n",
    "calculate_rth_max(\"MBR20100\", switch_temp_max, switch_r_junction_sink, switch_total_loss,\n",
    "\t\t\t\t  mbr_diode_temp_max, mbr_diode_r_junction_case, mbr_diode_total_loss,\n",
    "\t\t\t\t  ambient_temp)\n",
    "\n"
   ]
  }
 ],
 "metadata": {
  "kernelspec": {
   "display_name": ".venv",
   "language": "python",
   "name": "python3"
  },
  "language_info": {
   "codemirror_mode": {
    "name": "ipython",
    "version": 3
   },
   "file_extension": ".py",
   "mimetype": "text/x-python",
   "name": "python",
   "nbconvert_exporter": "python",
   "pygments_lexer": "ipython3",
   "version": "3.13.2"
  }
 },
 "nbformat": 4,
 "nbformat_minor": 2
}
